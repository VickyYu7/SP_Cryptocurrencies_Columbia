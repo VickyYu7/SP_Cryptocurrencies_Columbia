{
  "nbformat": 4,
  "nbformat_minor": 0,
  "metadata": {
    "colab": {
      "provenance": [],
      "include_colab_link": true
    },
    "kernelspec": {
      "name": "python3",
      "display_name": "Python 3"
    },
    "language_info": {
      "name": "python"
    }
  },
  "cells": [
    {
      "cell_type": "markdown",
      "metadata": {
        "id": "view-in-github",
        "colab_type": "text"
      },
      "source": [
        "<a href=\"https://colab.research.google.com/github/VickyYu7/SP_Cryptocurrencies_Columbia/blob/main/sentiment_interpolate_78.ipynb\" target=\"_parent\"><img src=\"https://colab.research.google.com/assets/colab-badge.svg\" alt=\"Open In Colab\"/></a>"
      ]
    },
    {
      "cell_type": "code",
      "execution_count": null,
      "metadata": {
        "colab": {
          "base_uri": "https://localhost:8080/"
        },
        "id": "I4fcVuO0Dkyp",
        "outputId": "f1e9f524-aac6-4fa2-a14b-86e9c2f78bf4"
      },
      "outputs": [
        {
          "output_type": "stream",
          "name": "stdout",
          "text": [
            "Mounted at /content/drive\n"
          ]
        }
      ],
      "source": [
        "from google.colab import drive\n",
        "drive.mount('/content/drive')"
      ]
    },
    {
      "cell_type": "code",
      "source": [
        "file = \"/content/drive/MyDrive/S&P Crypto Project/Market Sentiment Data/7. NFTsAI weekly data updating_available 2022 Q4.csv\"\n",
        "file2 = \"/content/drive/MyDrive/S&P Crypto Project/Market Sentiment Data/8. CBDC Weekly Data_Until 2022 Q4.csv\""
      ],
      "metadata": {
        "id": "cQOpJoj_JVs4"
      },
      "execution_count": null,
      "outputs": []
    },
    {
      "cell_type": "code",
      "source": [
        "import pandas as pd\n",
        "import numpy as np\n",
        "\n",
        "df = pd.read_csv(file)\n",
        "df.drop(['Timeline'],axis=1,inplace=True)\n",
        "df.columns = ['date','index']\n",
        "df['date'] = pd.to_datetime(df['date'],format='%d/%m/%Y')\n",
        "df.set_index(\"date\", inplace = True)\n",
        "df = df.resample('D').sum()\n",
        "\n",
        "df.where(df['index']!=0, None, inplace = True)\n",
        "df = df.interpolate(method = 'linear',limit_direction = 'forward')\n",
        "new_file = \"/content/drive/MyDrive/S&P Crypto Project/Market Sentiment Data/7.NFT_atten_v2.csv\"\n",
        "df.to_csv(new_file)"
      ],
      "metadata": {
        "id": "XBLzNYPpJyeu"
      },
      "execution_count": null,
      "outputs": []
    },
    {
      "cell_type": "code",
      "source": [
        "import pandas as pd\n",
        "import numpy as np\n",
        "\n",
        "df2 = pd.read_csv(file2)\n",
        "df2.drop(['Timeline'],axis=1,inplace=True)\n",
        "df2['Date'] = pd.to_datetime(df2['Date'],format='%d/%m/%Y')\n",
        "df2.set_index(\"Date\", inplace = True)\n",
        "df2 = df2.resample('D').sum()\n",
        "\n",
        "df2.replace(0, np.nan, inplace=True)\n",
        "df2 = df2.interpolate(method = 'linear',limit_direction = 'forward')\n",
        "new_file2 = \"/content/drive/MyDrive/S&P Crypto Project/Market Sentiment Data/8.CBDC_sentiment_v2.csv\"\n",
        "df2.to_csv(new_file2)"
      ],
      "metadata": {
        "id": "UCTf4JGtKxY6"
      },
      "execution_count": null,
      "outputs": []
    },
    {
      "cell_type": "code",
      "source": [],
      "metadata": {
        "id": "MM9lFHdeXG4P"
      },
      "execution_count": null,
      "outputs": []
    }
  ]
}