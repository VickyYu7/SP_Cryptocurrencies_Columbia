{
 "cells": [
  {
   "cell_type": "code",
   "execution_count": 33,
   "id": "f23ce0bc",
   "metadata": {},
   "outputs": [],
   "source": [
    "#conda install -c anaconda py-xgboost\n",
    "#!pip install lime"
   ]
  },
  {
   "cell_type": "code",
   "execution_count": 40,
   "id": "715458cc",
   "metadata": {},
   "outputs": [],
   "source": [
    "import pandas as pd\n",
    "import numpy as np\n",
    "import xgboost as xgb\n",
    "from sklearn import datasets\n",
    "from sklearn.model_selection import train_test_split, GridSearchCV\n",
    "from sklearn.ensemble import GradientBoostingClassifier\n",
    "from sklearn.metrics import accuracy_score, classification_report\n",
    "import warnings\n",
    "import lime\n",
    "from lime import lime_tabular\n",
    "import matplotlib.pyplot as plt"
   ]
  },
  {
   "cell_type": "code",
   "execution_count": 2,
   "id": "9ccd8d6b",
   "metadata": {},
   "outputs": [],
   "source": [
    "df1 = pd.read_csv('1.gt_bitcoin.csv', usecols=[2], skiprows=2, names=['1.gt_bitcoin'])\n",
    "df2 = pd.read_csv('2.gt_Buy_Bitcoin.csv', usecols=[2], skiprows=2, names=['2.gt_Buy_Bitcoin'])\n",
    "df3 = pd.read_csv('3.gt_Sell_Bitcoin.csv', usecols=[2], skiprows=2, names=['3.gt_Sell_Bitcoin'])\n",
    "df4 = pd.read_csv('4.gt_ethereum.csv', usecols=[2], skiprows=2, names=['4.gt_ethereum'])\n",
    "df5 = pd.read_csv('5.gt_Ukraine_war.csv', usecols=[2], skiprows=2, names=['5.gt_Ukraine_war'])\n",
    "df6 = pd.read_csv('6.gt_covid.csv', usecols=[2], skiprows=2, names=['6.gt_covid'])\n",
    "df8 = pd.read_csv('8.CBDC_uncertainty.csv', usecols=[2], skiprows=2, names=['8.CBDC_uncertainty'])\n",
    "df9 = pd.read_csv('9.CBDC_atten.csv', usecols=[2], skiprows=2, names=['9.CBDC_atten'])\n",
    "df10 = pd.read_csv('10.news_senti.csv', usecols=[2], skiprows=2, names=['10.news_senti'])\n",
    "df11 = pd.read_csv('11.fear&greed.csv', usecols=[2], skiprows=2, names=['11.fear&greed'])\n",
    "df12 = pd.read_csv('12.tweets_pos.csv', usecols=[2], skiprows=2, names=['12.tweets_pos'])\n",
    "df13 = pd.read_csv('13.tweets_neg.csv', usecols=[2], skiprows=2, names=['13.tweets_neg'])\n",
    "df14 = pd.read_csv('14.twitter_btccrash_pos.csv', usecols=[2], skiprows=2, names=['14.twitter_btccrash_pos'])\n",
    "df15 = pd.read_csv('15.twitter_btccrash_neg.csv', usecols=[2], skiprows=2, names=['15.twitter_btccrash_neg'])"
   ]
  },
  {
   "cell_type": "code",
   "execution_count": 3,
   "id": "965be501",
   "metadata": {},
   "outputs": [
    {
     "data": {
      "text/html": [
       "<div>\n",
       "<style scoped>\n",
       "    .dataframe tbody tr th:only-of-type {\n",
       "        vertical-align: middle;\n",
       "    }\n",
       "\n",
       "    .dataframe tbody tr th {\n",
       "        vertical-align: top;\n",
       "    }\n",
       "\n",
       "    .dataframe thead th {\n",
       "        text-align: right;\n",
       "    }\n",
       "</style>\n",
       "<table border=\"1\" class=\"dataframe\">\n",
       "  <thead>\n",
       "    <tr style=\"text-align: right;\">\n",
       "      <th></th>\n",
       "      <th>1.gt_bitcoin</th>\n",
       "      <th>4.gt_ethereum</th>\n",
       "      <th>5.gt_Ukraine_war</th>\n",
       "      <th>6.gt_covid</th>\n",
       "      <th>9.CBDC_atten</th>\n",
       "      <th>10.news_senti</th>\n",
       "      <th>11.fear&amp;greed</th>\n",
       "      <th>12.tweets_pos</th>\n",
       "      <th>13.tweets_neg</th>\n",
       "      <th>14.twitter_btccrash_pos</th>\n",
       "      <th>15.twitter_btccrash_neg</th>\n",
       "    </tr>\n",
       "  </thead>\n",
       "  <tbody>\n",
       "    <tr>\n",
       "      <th>0</th>\n",
       "      <td>-0.004854</td>\n",
       "      <td>-0.011494</td>\n",
       "      <td>0.000000</td>\n",
       "      <td>0.0</td>\n",
       "      <td>0.000321</td>\n",
       "      <td>-0.095687</td>\n",
       "      <td>0.236842</td>\n",
       "      <td>-0.113559</td>\n",
       "      <td>0.514869</td>\n",
       "      <td>-0.138386</td>\n",
       "      <td>0.120306</td>\n",
       "    </tr>\n",
       "    <tr>\n",
       "      <th>1</th>\n",
       "      <td>-0.004878</td>\n",
       "      <td>-0.011628</td>\n",
       "      <td>0.000000</td>\n",
       "      <td>0.0</td>\n",
       "      <td>-0.000248</td>\n",
       "      <td>-0.097991</td>\n",
       "      <td>0.191489</td>\n",
       "      <td>0.036830</td>\n",
       "      <td>-0.234322</td>\n",
       "      <td>-0.265998</td>\n",
       "      <td>0.381993</td>\n",
       "    </tr>\n",
       "    <tr>\n",
       "      <th>2</th>\n",
       "      <td>-0.004902</td>\n",
       "      <td>-0.011765</td>\n",
       "      <td>0.000000</td>\n",
       "      <td>0.0</td>\n",
       "      <td>-0.000248</td>\n",
       "      <td>-0.078837</td>\n",
       "      <td>-0.214286</td>\n",
       "      <td>0.063410</td>\n",
       "      <td>0.100377</td>\n",
       "      <td>0.194764</td>\n",
       "      <td>-0.005493</td>\n",
       "    </tr>\n",
       "    <tr>\n",
       "      <th>3</th>\n",
       "      <td>0.019704</td>\n",
       "      <td>-0.011905</td>\n",
       "      <td>0.000000</td>\n",
       "      <td>0.0</td>\n",
       "      <td>-0.000248</td>\n",
       "      <td>-0.079216</td>\n",
       "      <td>0.250000</td>\n",
       "      <td>-0.097288</td>\n",
       "      <td>-0.182443</td>\n",
       "      <td>-0.223062</td>\n",
       "      <td>-0.145083</td>\n",
       "    </tr>\n",
       "    <tr>\n",
       "      <th>4</th>\n",
       "      <td>0.019324</td>\n",
       "      <td>-0.012048</td>\n",
       "      <td>0.000000</td>\n",
       "      <td>0.0</td>\n",
       "      <td>-0.000248</td>\n",
       "      <td>-0.051206</td>\n",
       "      <td>0.072727</td>\n",
       "      <td>-0.214515</td>\n",
       "      <td>0.211336</td>\n",
       "      <td>0.090925</td>\n",
       "      <td>0.367505</td>\n",
       "    </tr>\n",
       "    <tr>\n",
       "      <th>...</th>\n",
       "      <td>...</td>\n",
       "      <td>...</td>\n",
       "      <td>...</td>\n",
       "      <td>...</td>\n",
       "      <td>...</td>\n",
       "      <td>...</td>\n",
       "      <td>...</td>\n",
       "      <td>...</td>\n",
       "      <td>...</td>\n",
       "      <td>...</td>\n",
       "      <td>...</td>\n",
       "    </tr>\n",
       "    <tr>\n",
       "      <th>1760</th>\n",
       "      <td>-0.015873</td>\n",
       "      <td>0.142857</td>\n",
       "      <td>-0.011905</td>\n",
       "      <td>0.0</td>\n",
       "      <td>-0.000637</td>\n",
       "      <td>-0.202782</td>\n",
       "      <td>-0.034483</td>\n",
       "      <td>-0.192200</td>\n",
       "      <td>0.144226</td>\n",
       "      <td>-0.319385</td>\n",
       "      <td>-0.168254</td>\n",
       "    </tr>\n",
       "    <tr>\n",
       "      <th>1761</th>\n",
       "      <td>-0.016129</td>\n",
       "      <td>0.125000</td>\n",
       "      <td>-0.012048</td>\n",
       "      <td>0.0</td>\n",
       "      <td>-0.000638</td>\n",
       "      <td>-0.011448</td>\n",
       "      <td>-0.035714</td>\n",
       "      <td>0.172758</td>\n",
       "      <td>0.098971</td>\n",
       "      <td>-0.287368</td>\n",
       "      <td>0.329540</td>\n",
       "    </tr>\n",
       "    <tr>\n",
       "      <th>1762</th>\n",
       "      <td>-0.016393</td>\n",
       "      <td>0.111111</td>\n",
       "      <td>-0.012195</td>\n",
       "      <td>0.0</td>\n",
       "      <td>-0.000638</td>\n",
       "      <td>-0.103914</td>\n",
       "      <td>0.037037</td>\n",
       "      <td>-0.127630</td>\n",
       "      <td>0.026982</td>\n",
       "      <td>-0.067539</td>\n",
       "      <td>0.101123</td>\n",
       "    </tr>\n",
       "    <tr>\n",
       "      <th>1763</th>\n",
       "      <td>-0.016667</td>\n",
       "      <td>0.100000</td>\n",
       "      <td>-0.012346</td>\n",
       "      <td>0.0</td>\n",
       "      <td>-0.000639</td>\n",
       "      <td>-0.064228</td>\n",
       "      <td>0.000000</td>\n",
       "      <td>0.165572</td>\n",
       "      <td>-0.055837</td>\n",
       "      <td>0.233303</td>\n",
       "      <td>-0.110677</td>\n",
       "    </tr>\n",
       "    <tr>\n",
       "      <th>1764</th>\n",
       "      <td>-0.016949</td>\n",
       "      <td>0.090909</td>\n",
       "      <td>-0.012500</td>\n",
       "      <td>0.0</td>\n",
       "      <td>-0.000639</td>\n",
       "      <td>-0.010292</td>\n",
       "      <td>0.000000</td>\n",
       "      <td>-0.078863</td>\n",
       "      <td>-0.085177</td>\n",
       "      <td>-0.227003</td>\n",
       "      <td>-0.014420</td>\n",
       "    </tr>\n",
       "  </tbody>\n",
       "</table>\n",
       "<p>1765 rows × 11 columns</p>\n",
       "</div>"
      ],
      "text/plain": [
       "      1.gt_bitcoin  4.gt_ethereum  5.gt_Ukraine_war  6.gt_covid  9.CBDC_atten  \\\n",
       "0        -0.004854      -0.011494          0.000000         0.0      0.000321   \n",
       "1        -0.004878      -0.011628          0.000000         0.0     -0.000248   \n",
       "2        -0.004902      -0.011765          0.000000         0.0     -0.000248   \n",
       "3         0.019704      -0.011905          0.000000         0.0     -0.000248   \n",
       "4         0.019324      -0.012048          0.000000         0.0     -0.000248   \n",
       "...            ...            ...               ...         ...           ...   \n",
       "1760     -0.015873       0.142857         -0.011905         0.0     -0.000637   \n",
       "1761     -0.016129       0.125000         -0.012048         0.0     -0.000638   \n",
       "1762     -0.016393       0.111111         -0.012195         0.0     -0.000638   \n",
       "1763     -0.016667       0.100000         -0.012346         0.0     -0.000639   \n",
       "1764     -0.016949       0.090909         -0.012500         0.0     -0.000639   \n",
       "\n",
       "      10.news_senti  11.fear&greed  12.tweets_pos  13.tweets_neg  \\\n",
       "0         -0.095687       0.236842      -0.113559       0.514869   \n",
       "1         -0.097991       0.191489       0.036830      -0.234322   \n",
       "2         -0.078837      -0.214286       0.063410       0.100377   \n",
       "3         -0.079216       0.250000      -0.097288      -0.182443   \n",
       "4         -0.051206       0.072727      -0.214515       0.211336   \n",
       "...             ...            ...            ...            ...   \n",
       "1760      -0.202782      -0.034483      -0.192200       0.144226   \n",
       "1761      -0.011448      -0.035714       0.172758       0.098971   \n",
       "1762      -0.103914       0.037037      -0.127630       0.026982   \n",
       "1763      -0.064228       0.000000       0.165572      -0.055837   \n",
       "1764      -0.010292       0.000000      -0.078863      -0.085177   \n",
       "\n",
       "      14.twitter_btccrash_pos  15.twitter_btccrash_neg  \n",
       "0                   -0.138386                 0.120306  \n",
       "1                   -0.265998                 0.381993  \n",
       "2                    0.194764                -0.005493  \n",
       "3                   -0.223062                -0.145083  \n",
       "4                    0.090925                 0.367505  \n",
       "...                       ...                      ...  \n",
       "1760                -0.319385                -0.168254  \n",
       "1761                -0.287368                 0.329540  \n",
       "1762                -0.067539                 0.101123  \n",
       "1763                 0.233303                -0.110677  \n",
       "1764                -0.227003                -0.014420  \n",
       "\n",
       "[1765 rows x 11 columns]"
      ]
     },
     "execution_count": 3,
     "metadata": {},
     "output_type": "execute_result"
    }
   ],
   "source": [
    "df_concat = pd.concat([df1, df2, df3, df4, df5, df6, df8, df9, df10, df11, df12, df13, df14, df15], axis=1)\n",
    "df_remove = df_concat.drop(['2.gt_Buy_Bitcoin', '3.gt_Sell_Bitcoin', '8.CBDC_uncertainty'], axis=1)\n",
    "# replace \"inf\" with NaN\n",
    "df_remove = df_remove.replace('inf', 0)\n",
    "df_remove = df_remove.replace([np.inf, -np.inf], 0)\n",
    "df_na = df_remove.fillna(0)\n",
    "df_na"
   ]
  },
  {
   "cell_type": "code",
   "execution_count": 4,
   "id": "b1862c50",
   "metadata": {},
   "outputs": [],
   "source": [
    "bitcoin = pd.read_csv('bitcoin.csv', usecols=[5], skiprows=2, names=['bitcoin'])\n",
    "ether = pd.read_csv('ethereum.csv', usecols=[5], skiprows=2, names=['ether'])\n",
    "BDM_exlarge = pd.read_csv('SP_BDM_exlarge.csv', usecols=[5], skiprows=2, names=['BDM_exlarge'])\n",
    "BDM = pd.read_csv('SP_BDM.csv', usecols=[5], skiprows=2, names=['BDM'])\n",
    "\n",
    "# control\n",
    "VIX = pd.read_csv('VIX.csv', usecols=[2], skiprows=2, names=['VIX'])\n",
    "df_control = pd.concat([df_na,VIX], axis=1)"
   ]
  },
  {
   "cell_type": "markdown",
   "id": "10070490",
   "metadata": {},
   "source": [
    "# 1. Bitcoin"
   ]
  },
  {
   "cell_type": "code",
   "execution_count": 62,
   "id": "f50d5b00",
   "metadata": {},
   "outputs": [],
   "source": [
    "bitcoin_control = pd.concat([bitcoin,df_control], axis=1)\n",
    "train, test = train_test_split(bitcoin_control, test_size = 0.3, random_state=42)\n",
    "x_train = train.iloc[0:,1:13]\n",
    "y_train = train.iloc[0:,0]\n",
    "x_test = test.iloc[0:,1:13]\n",
    "y_test = test.iloc[0:,0]"
   ]
  },
  {
   "cell_type": "code",
   "execution_count": 63,
   "id": "55616ac9",
   "metadata": {},
   "outputs": [
    {
     "name": "stdout",
     "output_type": "stream",
     "text": [
      "Fitting 5 folds for each of 243 candidates, totalling 1215 fits\n",
      "Best parameters found:  {'colsample_bytree': 1, 'learning_rate': 0.1, 'max_depth': 4, 'n_estimators': 50, 'subsample': 0.8}\n",
      "Accuracy:  0.5547169811320755\n",
      "Classification Report:\n",
      "              precision    recall  f1-score   support\n",
      "\n",
      "           0       0.56      0.45      0.50       261\n",
      "           1       0.55      0.66      0.60       269\n",
      "\n",
      "    accuracy                           0.55       530\n",
      "   macro avg       0.56      0.55      0.55       530\n",
      "weighted avg       0.56      0.55      0.55       530\n",
      "\n"
     ]
    }
   ],
   "source": [
    "# Ignore the FutureWarning from the XGBoost library\n",
    "warnings.filterwarnings(\"ignore\", category=FutureWarning, module=\"xgboost\")\n",
    "\n",
    "# Create an XGBoost classifier\n",
    "xgb_clf = xgb.XGBClassifier(use_label_encoder=False, eval_metric='mlogloss')\n",
    "\n",
    "# Set up the parameter grid for GridSearchCV\n",
    "param_grid = {\n",
    "    'learning_rate': [0.01, 0.1, 0.2],\n",
    "    'max_depth': [3, 4, 5],\n",
    "    'n_estimators': [50, 100, 200],\n",
    "    'subsample': [0.5, 0.8, 1],\n",
    "    'colsample_bytree': [0.5, 0.8, 1]\n",
    "}\n",
    "\n",
    "# Instantiate GridSearchCV with the XGBoost classifier and the parameter grid\n",
    "grid_search = GridSearchCV(xgb_clf, param_grid, scoring='accuracy', cv=5, verbose=1)\n",
    "\n",
    "# Fit the GridSearchCV object to the training data\n",
    "grid_search.fit(x_train, y_train)\n",
    "\n",
    "# Display the best parameters found by GridSearchCV\n",
    "print(\"Best parameters found: \", grid_search.best_params_)\n",
    "\n",
    "# Train the XGBoost classifier with the best parameters\n",
    "best_xgb_clf = xgb.XGBClassifier(**grid_search.best_params_, use_label_encoder=False, eval_metric='mlogloss')\n",
    "best_xgb_clf.fit(x_train, y_train)\n",
    "\n",
    "# Predict the labels for the test set\n",
    "y_pred = best_xgb_clf.predict(x_test)\n",
    "\n",
    "# Calculate and display the accuracy and classification report\n",
    "accuracy = accuracy_score(y_test, y_pred)\n",
    "print(\"Accuracy: \", accuracy)\n",
    "print(\"Classification Report:\")\n",
    "print(classification_report(y_test, y_pred))\n"
   ]
  },
  {
   "cell_type": "code",
   "execution_count": 64,
   "id": "d54ea3b3",
   "metadata": {},
   "outputs": [
    {
     "data": {
      "image/png": "[encoded data removed]",
      "text/plain": [
       "<Figure size 864x432 with 1 Axes>"
      ]
     },
     "metadata": {
      "needs_background": "light"
     },
     "output_type": "display_data"
    }
   ],
   "source": [
    "# Calculate feature importances\n",
    "importances = best_xgb_clf.feature_importances_\n",
    "\n",
    "# Sort the feature importances and their corresponding indices\n",
    "sorted_indices = np.argsort(importances)[::-1]\n",
    "\n",
    "# Create a horizontal bar chart of the feature importances\n",
    "plt.figure(figsize=(12, 6))\n",
    "plt.barh(range(x_train.shape[1]), importances[sorted_indices])\n",
    "plt.yticks(range(x_train.shape[1]), np.array(feature_names)[sorted_indices])\n",
    "plt.xlabel('Feature Importance')\n",
    "plt.title('Feature Importances of the Best XGBoosting Classifier')\n",
    "plt.show()"
   ]
  },
  {
   "cell_type": "code",
   "execution_count": 46,
   "id": "389da11d",
   "metadata": {},
   "outputs": [
    {
     "name": "stdout",
     "output_type": "stream",
     "text": [
      "Fitting 5 folds for each of 81 candidates, totalling 405 fits\n",
      "Best parameters found:  {'learning_rate': 0.01, 'max_depth': 5, 'n_estimators': 50, 'subsample': 0.5}\n",
      "Accuracy:  0.5660377358490566\n",
      "Classification Report:\n",
      "              precision    recall  f1-score   support\n",
      "\n",
      "           0       0.63      0.29      0.40       261\n",
      "           1       0.55      0.83      0.66       269\n",
      "\n",
      "    accuracy                           0.57       530\n",
      "   macro avg       0.59      0.56      0.53       530\n",
      "weighted avg       0.59      0.57      0.53       530\n",
      "\n"
     ]
    }
   ],
   "source": [
    "# Create a Gradient Boosting classifier\n",
    "gb_clf = GradientBoostingClassifier(random_state=42)\n",
    "\n",
    "# Set up the parameter grid for GridSearchCV\n",
    "param_grid = {\n",
    "    'learning_rate': [0.01, 0.1, 0.2],\n",
    "    'n_estimators': [50, 100, 200],\n",
    "    'max_depth': [3, 4, 5],\n",
    "    'subsample': [0.5, 0.8, 1],\n",
    "}\n",
    "\n",
    "# Instantiate GridSearchCV with the Gradient Boosting classifier and the parameter grid\n",
    "grid_search = GridSearchCV(gb_clf, param_grid, scoring='accuracy', cv=5, verbose=1)\n",
    "\n",
    "# Fit the GridSearchCV object to the training data\n",
    "grid_search.fit(x_train, y_train)\n",
    "\n",
    "# Display the best parameters found by GridSearchCV\n",
    "print(\"Best parameters found: \", grid_search.best_params_)\n",
    "\n",
    "# Train the Gradient Boosting classifier with the best parameters\n",
    "best_gb_clf = GradientBoostingClassifier(**grid_search.best_params_, random_state=42)\n",
    "best_gb_clf.fit(x_train, y_train)\n",
    "\n",
    "# Predict the labels for the test set\n",
    "y_pred = best_gb_clf.predict(x_test)\n",
    "\n",
    "# Calculate and display the accuracy and classification report\n",
    "accuracy = accuracy_score(y_test, y_pred)\n",
    "print(\"Accuracy: \", accuracy)\n",
    "print(\"Classification Report:\")\n",
    "print(classification_report(y_test, y_pred))\n"
   ]
  },
  {
   "cell_type": "code",
   "execution_count": 48,
   "id": "a0bbb21c",
   "metadata": {},
   "outputs": [
    {
     "data": {
      "image/png": "[encoded data removed]",
      "text/plain": [
       "<Figure size 864x432 with 1 Axes>"
      ]
     },
     "metadata": {
      "needs_background": "light"
     },
     "output_type": "display_data"
    }
   ],
   "source": [
    "# Calculate feature importances\n",
    "importances = best_gb_clf.feature_importances_\n",
    "\n",
    "# Sort the feature importances and their corresponding indices\n",
    "sorted_indices = np.argsort(importances)[::-1]\n",
    "\n",
    "# Create a horizontal bar chart of the feature importances\n",
    "plt.figure(figsize=(12, 6))\n",
    "plt.barh(range(x_train.shape[1]), importances[sorted_indices])\n",
    "plt.yticks(range(x_train.shape[1]), np.array(feature_names)[sorted_indices])\n",
    "plt.xlabel('Feature Importance')\n",
    "plt.title('Feature Importances of the Best Gradient Boosting Classifier')\n",
    "plt.show()"
   ]
  },
  {
   "cell_type": "markdown",
   "id": "26881507",
   "metadata": {},
   "source": [
    "# 2. Ether"
   ]
  },
  {
   "cell_type": "code",
   "execution_count": 65,
   "id": "19213e27",
   "metadata": {},
   "outputs": [],
   "source": [
    "ether_control = pd.concat([ether,df_control], axis=1)\n",
    "train, test = train_test_split(ether_control, test_size = 0.3)\n",
    "x_train = train.iloc[0:,1:13]\n",
    "y_train = train.iloc[0:,0]\n",
    "x_test = test.iloc[0:,1:13]\n",
    "y_test = test.iloc[0:,0]"
   ]
  },
  {
   "cell_type": "code",
   "execution_count": 66,
   "id": "579cd609",
   "metadata": {},
   "outputs": [
    {
     "name": "stdout",
     "output_type": "stream",
     "text": [
      "Fitting 5 folds for each of 243 candidates, totalling 1215 fits\n",
      "Best parameters found:  {'colsample_bytree': 0.8, 'learning_rate': 0.01, 'max_depth': 3, 'n_estimators': 100, 'subsample': 1}\n",
      "Accuracy:  0.5113207547169811\n",
      "Classification Report:\n",
      "              precision    recall  f1-score   support\n",
      "\n",
      "           0       0.48      0.38      0.43       250\n",
      "           1       0.53      0.62      0.57       280\n",
      "\n",
      "    accuracy                           0.51       530\n",
      "   macro avg       0.50      0.50      0.50       530\n",
      "weighted avg       0.51      0.51      0.50       530\n",
      "\n"
     ]
    }
   ],
   "source": [
    "# Ignore the FutureWarning from the XGBoost library\n",
    "warnings.filterwarnings(\"ignore\", category=FutureWarning, module=\"xgboost\")\n",
    "\n",
    "# Create an XGBoost classifier\n",
    "xgb_clf = xgb.XGBClassifier(use_label_encoder=False, eval_metric='mlogloss')\n",
    "\n",
    "# Set up the parameter grid for GridSearchCV\n",
    "param_grid = {\n",
    "    'learning_rate': [0.01, 0.1, 0.2],\n",
    "    'max_depth': [3, 4, 5],\n",
    "    'n_estimators': [50, 100, 200],\n",
    "    'subsample': [0.5, 0.8, 1],\n",
    "    'colsample_bytree': [0.5, 0.8, 1]\n",
    "}\n",
    "\n",
    "# Instantiate GridSearchCV with the XGBoost classifier and the parameter grid\n",
    "grid_search = GridSearchCV(xgb_clf, param_grid, scoring='accuracy', cv=5, verbose=1)\n",
    "\n",
    "# Fit the GridSearchCV object to the training data\n",
    "grid_search.fit(x_train, y_train)\n",
    "\n",
    "# Display the best parameters found by GridSearchCV\n",
    "print(\"Best parameters found: \", grid_search.best_params_)\n",
    "\n",
    "# Train the XGBoost classifier with the best parameters\n",
    "best_xgb_clf = xgb.XGBClassifier(**grid_search.best_params_, use_label_encoder=False, eval_metric='mlogloss')\n",
    "best_xgb_clf.fit(x_train, y_train)\n",
    "\n",
    "# Predict the labels for the test set\n",
    "y_pred = best_xgb_clf.predict(x_test)\n",
    "\n",
    "# Calculate and display the accuracy and classification report\n",
    "accuracy = accuracy_score(y_test, y_pred)\n",
    "print(\"Accuracy: \", accuracy)\n",
    "print(\"Classification Report:\")\n",
    "print(classification_report(y_test, y_pred))"
   ]
  },
  {
   "cell_type": "code",
   "execution_count": 67,
   "id": "9dc0414f",
   "metadata": {},
   "outputs": [
    {
     "data": {
      "image/png": "[encoded data removed]",
      "text/plain": [
       "<Figure size 864x432 with 1 Axes>"
      ]
     },
     "metadata": {
      "needs_background": "light"
     },
     "output_type": "display_data"
    }
   ],
   "source": [
    "# Calculate feature importances\n",
    "importances = best_xgb_clf.feature_importances_\n",
    "\n",
    "# Sort the feature importances and their corresponding indices\n",
    "sorted_indices = np.argsort(importances)[::-1]\n",
    "\n",
    "# Create a horizontal bar chart of the feature importances\n",
    "plt.figure(figsize=(12, 6))\n",
    "plt.barh(range(x_train.shape[1]), importances[sorted_indices])\n",
    "plt.yticks(range(x_train.shape[1]), np.array(feature_names)[sorted_indices])\n",
    "plt.xlabel('Feature Importance')\n",
    "plt.title('Feature Importances of the Best XGBoosting Classifier')\n",
    "plt.show()"
   ]
  },
  {
   "cell_type": "code",
   "execution_count": 29,
   "id": "c58e7512",
   "metadata": {},
   "outputs": [
    {
     "name": "stdout",
     "output_type": "stream",
     "text": [
      "Fitting 5 folds for each of 81 candidates, totalling 405 fits\n",
      "Best parameters found:  {'learning_rate': 0.01, 'max_depth': 3, 'n_estimators': 100, 'subsample': 0.5}\n",
      "Accuracy:  0.5679245283018868\n",
      "Classification Report:\n",
      "              precision    recall  f1-score   support\n",
      "\n",
      "           0       0.60      0.41      0.49       266\n",
      "           1       0.55      0.73      0.63       264\n",
      "\n",
      "    accuracy                           0.57       530\n",
      "   macro avg       0.58      0.57      0.56       530\n",
      "weighted avg       0.58      0.57      0.56       530\n",
      "\n"
     ]
    }
   ],
   "source": [
    "# Create a Gradient Boosting classifier\n",
    "gb_clf = GradientBoostingClassifier(random_state=42)\n",
    "\n",
    "# Set up the parameter grid for GridSearchCV\n",
    "param_grid = {\n",
    "    'learning_rate': [0.01, 0.1, 0.2],\n",
    "    'n_estimators': [50, 100, 200],\n",
    "    'max_depth': [3, 4, 5],\n",
    "    'subsample': [0.5, 0.8, 1],\n",
    "}\n",
    "\n",
    "# Instantiate GridSearchCV with the Gradient Boosting classifier and the parameter grid\n",
    "grid_search = GridSearchCV(gb_clf, param_grid, scoring='accuracy', cv=5, verbose=1)\n",
    "\n",
    "# Fit the GridSearchCV object to the training data\n",
    "grid_search.fit(x_train, y_train)\n",
    "\n",
    "# Display the best parameters found by GridSearchCV\n",
    "print(\"Best parameters found: \", grid_search.best_params_)\n",
    "\n",
    "# Train the Gradient Boosting classifier with the best parameters\n",
    "best_gb_clf = GradientBoostingClassifier(**grid_search.best_params_, random_state=42)\n",
    "best_gb_clf.fit(x_train, y_train)\n",
    "\n",
    "# Predict the labels for the test set\n",
    "y_pred = best_gb_clf.predict(x_test)\n",
    "\n",
    "# Calculate and display the accuracy and classification report\n",
    "accuracy = accuracy_score(y_test, y_pred)\n",
    "print(\"Accuracy: \", accuracy)\n",
    "print(\"Classification Report:\")\n",
    "print(classification_report(y_test, y_pred))"
   ]
  },
  {
   "cell_type": "code",
   "execution_count": 42,
   "id": "88a5a163",
   "metadata": {},
   "outputs": [
    {
     "data": {
      "image/png": "[encoded data removed]",
      "text/plain": [
       "<Figure size 864x432 with 1 Axes>"
      ]
     },
     "metadata": {
      "needs_background": "light"
     },
     "output_type": "display_data"
    }
   ],
   "source": [
    "# Calculate feature importances\n",
    "importances = best_gb_clf.feature_importances_\n",
    "\n",
    "# Sort the feature importances and their corresponding indices\n",
    "sorted_indices = np.argsort(importances)[::-1]\n",
    "\n",
    "# Create a horizontal bar chart of the feature importances\n",
    "plt.figure(figsize=(12, 6))\n",
    "plt.barh(range(x_train.shape[1]), importances[sorted_indices])\n",
    "plt.yticks(range(x_train.shape[1]), np.array(feature_names)[sorted_indices])\n",
    "plt.xlabel('Feature Importance')\n",
    "plt.title('Feature Importances of the Best Gradient Boosting Classifier')\n",
    "plt.show()"
   ]
  },
  {
   "cell_type": "markdown",
   "id": "5228367a",
   "metadata": {},
   "source": [
    "# 3. BDM_exlarge"
   ]
  },
  {
   "cell_type": "code",
   "execution_count": 68,
   "id": "9be36075",
   "metadata": {},
   "outputs": [],
   "source": [
    "BDM_exlarge_control = pd.concat([BDM_exlarge,df_control], axis=1)\n",
    "train, test = train_test_split(BDM_exlarge_control, test_size = 0.3)\n",
    "x_train = train.iloc[0:,1:13]\n",
    "y_train = train.iloc[0:,0]\n",
    "x_test = test.iloc[0:,1:13]\n",
    "y_test = test.iloc[0:,0]"
   ]
  },
  {
   "cell_type": "code",
   "execution_count": 69,
   "id": "58c64490",
   "metadata": {},
   "outputs": [
    {
     "name": "stdout",
     "output_type": "stream",
     "text": [
      "Fitting 5 folds for each of 243 candidates, totalling 1215 fits\n",
      "Best parameters found:  {'colsample_bytree': 0.8, 'learning_rate': 0.1, 'max_depth': 4, 'n_estimators': 50, 'subsample': 0.8}\n",
      "Accuracy:  0.6132075471698113\n",
      "Classification Report:\n",
      "              precision    recall  f1-score   support\n",
      "\n",
      "           0       0.56      0.46      0.51       229\n",
      "           1       0.64      0.73      0.68       301\n",
      "\n",
      "    accuracy                           0.61       530\n",
      "   macro avg       0.60      0.60      0.59       530\n",
      "weighted avg       0.61      0.61      0.61       530\n",
      "\n"
     ]
    }
   ],
   "source": [
    "# Ignore the FutureWarning from the XGBoost library\n",
    "warnings.filterwarnings(\"ignore\", category=FutureWarning, module=\"xgboost\")\n",
    "\n",
    "# Create an XGBoost classifier\n",
    "xgb_clf = xgb.XGBClassifier(use_label_encoder=False, eval_metric='mlogloss')\n",
    "\n",
    "# Set up the parameter grid for GridSearchCV\n",
    "param_grid = {\n",
    "    'learning_rate': [0.01, 0.1, 0.2],\n",
    "    'max_depth': [3, 4, 5],\n",
    "    'n_estimators': [50, 100, 200],\n",
    "    'subsample': [0.5, 0.8, 1],\n",
    "    'colsample_bytree': [0.5, 0.8, 1]\n",
    "}\n",
    "\n",
    "# Instantiate GridSearchCV with the XGBoost classifier and the parameter grid\n",
    "grid_search = GridSearchCV(xgb_clf, param_grid, scoring='accuracy', cv=5, verbose=1)\n",
    "\n",
    "# Fit the GridSearchCV object to the training data\n",
    "grid_search.fit(x_train, y_train)\n",
    "\n",
    "# Display the best parameters found by GridSearchCV\n",
    "print(\"Best parameters found: \", grid_search.best_params_)\n",
    "\n",
    "# Train the XGBoost classifier with the best parameters\n",
    "best_xgb_clf = xgb.XGBClassifier(**grid_search.best_params_, use_label_encoder=False, eval_metric='mlogloss')\n",
    "best_xgb_clf.fit(x_train, y_train)\n",
    "\n",
    "# Predict the labels for the test set\n",
    "y_pred = best_xgb_clf.predict(x_test)\n",
    "\n",
    "# Calculate and display the accuracy and classification report\n",
    "accuracy = accuracy_score(y_test, y_pred)\n",
    "print(\"Accuracy: \", accuracy)\n",
    "print(\"Classification Report:\")\n",
    "print(classification_report(y_test, y_pred))"
   ]
  },
  {
   "cell_type": "code",
   "execution_count": 70,
   "id": "df098641",
   "metadata": {},
   "outputs": [
    {
     "data": {
      "image/png": "[encoded data removed]",
      "text/plain": [
       "<Figure size 864x432 with 1 Axes>"
      ]
     },
     "metadata": {
      "needs_background": "light"
     },
     "output_type": "display_data"
    }
   ],
   "source": [
    "# Calculate feature importances\n",
    "importances = best_xgb_clf.feature_importances_\n",
    "\n",
    "# Sort the feature importances and their corresponding indices\n",
    "sorted_indices = np.argsort(importances)[::-1]\n",
    "\n",
    "# Create a horizontal bar chart of the feature importances\n",
    "plt.figure(figsize=(12, 6))\n",
    "plt.barh(range(x_train.shape[1]), importances[sorted_indices])\n",
    "plt.yticks(range(x_train.shape[1]), np.array(feature_names)[sorted_indices])\n",
    "plt.xlabel('Feature Importance')\n",
    "plt.title('Feature Importances of the Best XGBoosting Classifier')\n",
    "plt.show()"
   ]
  },
  {
   "cell_type": "code",
   "execution_count": 55,
   "id": "f99c5df5",
   "metadata": {},
   "outputs": [
    {
     "name": "stdout",
     "output_type": "stream",
     "text": [
      "Fitting 5 folds for each of 81 candidates, totalling 405 fits\n",
      "Best parameters found:  {'learning_rate': 0.01, 'max_depth': 5, 'n_estimators': 100, 'subsample': 0.5}\n",
      "Accuracy:  0.6094339622641509\n",
      "Classification Report:\n",
      "              precision    recall  f1-score   support\n",
      "\n",
      "           0       0.73      0.31      0.44       257\n",
      "           1       0.58      0.89      0.70       273\n",
      "\n",
      "    accuracy                           0.61       530\n",
      "   macro avg       0.65      0.60      0.57       530\n",
      "weighted avg       0.65      0.61      0.57       530\n",
      "\n"
     ]
    }
   ],
   "source": [
    "# Create a Gradient Boosting classifier\n",
    "gb_clf = GradientBoostingClassifier(random_state=42)\n",
    "\n",
    "# Set up the parameter grid for GridSearchCV\n",
    "param_grid = {\n",
    "    'learning_rate': [0.01, 0.1, 0.2],\n",
    "    'n_estimators': [50, 100, 200],\n",
    "    'max_depth': [3, 4, 5],\n",
    "    'subsample': [0.5, 0.8, 1],\n",
    "}\n",
    "\n",
    "# Instantiate GridSearchCV with the Gradient Boosting classifier and the parameter grid\n",
    "grid_search = GridSearchCV(gb_clf, param_grid, scoring='accuracy', cv=5, verbose=1)\n",
    "\n",
    "# Fit the GridSearchCV object to the training data\n",
    "grid_search.fit(x_train, y_train)\n",
    "\n",
    "# Display the best parameters found by GridSearchCV\n",
    "print(\"Best parameters found: \", grid_search.best_params_)\n",
    "\n",
    "# Train the Gradient Boosting classifier with the best parameters\n",
    "best_gb_clf = GradientBoostingClassifier(**grid_search.best_params_, random_state=42)\n",
    "best_gb_clf.fit(x_train, y_train)\n",
    "\n",
    "# Predict the labels for the test set\n",
    "y_pred = best_gb_clf.predict(x_test)\n",
    "\n",
    "# Calculate and display the accuracy and classification report\n",
    "accuracy = accuracy_score(y_test, y_pred)\n",
    "print(\"Accuracy: \", accuracy)\n",
    "print(\"Classification Report:\")\n",
    "print(classification_report(y_test, y_pred))"
   ]
  },
  {
   "cell_type": "code",
   "execution_count": 56,
   "id": "ecee43df",
   "metadata": {},
   "outputs": [
    {
     "data": {
      "image/png": "[encoded data removed]",
      "text/plain": [
       "<Figure size 864x432 with 1 Axes>"
      ]
     },
     "metadata": {
      "needs_background": "light"
     },
     "output_type": "display_data"
    }
   ],
   "source": [
    "# Calculate feature importances\n",
    "importances = best_gb_clf.feature_importances_\n",
    "\n",
    "# Sort the feature importances and their corresponding indices\n",
    "sorted_indices = np.argsort(importances)[::-1]\n",
    "\n",
    "# Create a horizontal bar chart of the feature importances\n",
    "plt.figure(figsize=(12, 6))\n",
    "plt.barh(range(x_train.shape[1]), importances[sorted_indices])\n",
    "plt.yticks(range(x_train.shape[1]), np.array(feature_names)[sorted_indices])\n",
    "plt.xlabel('Feature Importance')\n",
    "plt.title('Feature Importances of the Best Gradient Boosting Classifier')\n",
    "plt.show()"
   ]
  },
  {
   "cell_type": "markdown",
   "id": "e117055b",
   "metadata": {},
   "source": [
    "# 4. BDM"
   ]
  },
  {
   "cell_type": "code",
   "execution_count": 71,
   "id": "fb7da145",
   "metadata": {},
   "outputs": [],
   "source": [
    "BDM_control = pd.concat([BDM,df_control], axis=1)\n",
    "train, test = train_test_split(BDM_control, test_size = 0.3)\n",
    "x_train = train.iloc[0:,1:13]\n",
    "y_train = train.iloc[0:,0]\n",
    "x_test = test.iloc[0:,1:13]\n",
    "y_test = test.iloc[0:,0]"
   ]
  },
  {
   "cell_type": "code",
   "execution_count": 72,
   "id": "529b706f",
   "metadata": {},
   "outputs": [
    {
     "name": "stdout",
     "output_type": "stream",
     "text": [
      "Fitting 5 folds for each of 243 candidates, totalling 1215 fits\n",
      "Best parameters found:  {'colsample_bytree': 0.5, 'learning_rate': 0.1, 'max_depth': 5, 'n_estimators': 50, 'subsample': 0.8}\n",
      "Accuracy:  0.6056603773584905\n",
      "Classification Report:\n",
      "              precision    recall  f1-score   support\n",
      "\n",
      "           0       0.60      0.48      0.53       248\n",
      "           1       0.61      0.71      0.66       282\n",
      "\n",
      "    accuracy                           0.61       530\n",
      "   macro avg       0.60      0.60      0.60       530\n",
      "weighted avg       0.60      0.61      0.60       530\n",
      "\n"
     ]
    }
   ],
   "source": [
    "# Ignore the FutureWarning from the XGBoost library\n",
    "warnings.filterwarnings(\"ignore\", category=FutureWarning, module=\"xgboost\")\n",
    "\n",
    "# Create an XGBoost classifier\n",
    "xgb_clf = xgb.XGBClassifier(use_label_encoder=False, eval_metric='mlogloss')\n",
    "\n",
    "# Set up the parameter grid for GridSearchCV\n",
    "param_grid = {\n",
    "    'learning_rate': [0.01, 0.1, 0.2],\n",
    "    'max_depth': [3, 4, 5],\n",
    "    'n_estimators': [50, 100, 200],\n",
    "    'subsample': [0.5, 0.8, 1],\n",
    "    'colsample_bytree': [0.5, 0.8, 1]\n",
    "}\n",
    "\n",
    "# Instantiate GridSearchCV with the XGBoost classifier and the parameter grid\n",
    "grid_search = GridSearchCV(xgb_clf, param_grid, scoring='accuracy', cv=5, verbose=1)\n",
    "\n",
    "# Fit the GridSearchCV object to the training data\n",
    "grid_search.fit(x_train, y_train)\n",
    "\n",
    "# Display the best parameters found by GridSearchCV\n",
    "print(\"Best parameters found: \", grid_search.best_params_)\n",
    "\n",
    "# Train the XGBoost classifier with the best parameters\n",
    "best_xgb_clf = xgb.XGBClassifier(**grid_search.best_params_, use_label_encoder=False, eval_metric='mlogloss')\n",
    "best_xgb_clf.fit(x_train, y_train)\n",
    "\n",
    "# Predict the labels for the test set\n",
    "y_pred = best_xgb_clf.predict(x_test)\n",
    "\n",
    "# Calculate and display the accuracy and classification report\n",
    "accuracy = accuracy_score(y_test, y_pred)\n",
    "print(\"Accuracy: \", accuracy)\n",
    "print(\"Classification Report:\")\n",
    "print(classification_report(y_test, y_pred))"
   ]
  },
  {
   "cell_type": "code",
   "execution_count": 73,
   "id": "becb164c",
   "metadata": {},
   "outputs": [
    {
     "data": {
      "image/png": "[encoded data removed]",
      "text/plain": [
       "<Figure size 864x432 with 1 Axes>"
      ]
     },
     "metadata": {
      "needs_background": "light"
     },
     "output_type": "display_data"
    }
   ],
   "source": [
    "# Calculate feature importances\n",
    "importances = best_xgb_clf.feature_importances_\n",
    "\n",
    "# Sort the feature importances and their corresponding indices\n",
    "sorted_indices = np.argsort(importances)[::-1]\n",
    "\n",
    "# Create a horizontal bar chart of the feature importances\n",
    "plt.figure(figsize=(12, 6))\n",
    "plt.barh(range(x_train.shape[1]), importances[sorted_indices])\n",
    "plt.yticks(range(x_train.shape[1]), np.array(feature_names)[sorted_indices])\n",
    "plt.xlabel('Feature Importance')\n",
    "plt.title('Feature Importances of the Best XGBoosting Classifier')\n",
    "plt.show()"
   ]
  },
  {
   "cell_type": "code",
   "execution_count": 60,
   "id": "2f53f7cd",
   "metadata": {},
   "outputs": [
    {
     "name": "stdout",
     "output_type": "stream",
     "text": [
      "Fitting 5 folds for each of 81 candidates, totalling 405 fits\n",
      "Best parameters found:  {'learning_rate': 0.01, 'max_depth': 4, 'n_estimators': 100, 'subsample': 0.8}\n",
      "Accuracy:  0.6132075471698113\n",
      "Classification Report:\n",
      "              precision    recall  f1-score   support\n",
      "\n",
      "           0       0.65      0.37      0.47       248\n",
      "           1       0.60      0.83      0.70       282\n",
      "\n",
      "    accuracy                           0.61       530\n",
      "   macro avg       0.63      0.60      0.58       530\n",
      "weighted avg       0.62      0.61      0.59       530\n",
      "\n"
     ]
    }
   ],
   "source": [
    "# Create a Gradient Boosting classifier\n",
    "gb_clf = GradientBoostingClassifier(random_state=42)\n",
    "\n",
    "# Set up the parameter grid for GridSearchCV\n",
    "param_grid = {\n",
    "    'learning_rate': [0.01, 0.1, 0.2],\n",
    "    'n_estimators': [50, 100, 200],\n",
    "    'max_depth': [3, 4, 5],\n",
    "    'subsample': [0.5, 0.8, 1],\n",
    "}\n",
    "\n",
    "# Instantiate GridSearchCV with the Gradient Boosting classifier and the parameter grid\n",
    "grid_search = GridSearchCV(gb_clf, param_grid, scoring='accuracy', cv=5, verbose=1)\n",
    "\n",
    "# Fit the GridSearchCV object to the training data\n",
    "grid_search.fit(x_train, y_train)\n",
    "\n",
    "# Display the best parameters found by GridSearchCV\n",
    "print(\"Best parameters found: \", grid_search.best_params_)\n",
    "\n",
    "# Train the Gradient Boosting classifier with the best parameters\n",
    "best_gb_clf = GradientBoostingClassifier(**grid_search.best_params_, random_state=42)\n",
    "best_gb_clf.fit(x_train, y_train)\n",
    "\n",
    "# Predict the labels for the test set\n",
    "y_pred = best_gb_clf.predict(x_test)\n",
    "\n",
    "# Calculate and display the accuracy and classification report\n",
    "accuracy = accuracy_score(y_test, y_pred)\n",
    "print(\"Accuracy: \", accuracy)\n",
    "print(\"Classification Report:\")\n",
    "print(classification_report(y_test, y_pred))"
   ]
  },
  {
   "cell_type": "code",
   "execution_count": 61,
   "id": "69df3f01",
   "metadata": {},
   "outputs": [
    {
     "data": {
      "image/png": "[encoded data removed]",
      "text/plain": [
       "<Figure size 864x432 with 1 Axes>"
      ]
     },
     "metadata": {
      "needs_background": "light"
     },
     "output_type": "display_data"
    }
   ],
   "source": [
    "# Calculate feature importances\n",
    "importances = best_gb_clf.feature_importances_\n",
    "\n",
    "# Sort the feature importances and their corresponding indices\n",
    "sorted_indices = np.argsort(importances)[::-1]\n",
    "\n",
    "# Create a horizontal bar chart of the feature importances\n",
    "plt.figure(figsize=(12, 6))\n",
    "plt.barh(range(x_train.shape[1]), importances[sorted_indices])\n",
    "plt.yticks(range(x_train.shape[1]), np.array(feature_names)[sorted_indices])\n",
    "plt.xlabel('Feature Importance')\n",
    "plt.title('Feature Importances of the Best Gradient Boosting Classifier')\n",
    "plt.show()"
   ]
  },
  {
   "cell_type": "code",
   "execution_count": null,
   "id": "6a156d17",
   "metadata": {},
   "outputs": [],
   "source": []
  }
 ],
 "metadata": {
  "kernelspec": {
   "display_name": "Python 3 (ipykernel)",
   "language": "python",
   "name": "python3"
  },
  "language_info": {
   "codemirror_mode": {
    "name": "ipython",
    "version": 3
   },
   "file_extension": ".py",
   "mimetype": "text/x-python",
   "name": "python",
   "nbconvert_exporter": "python",
   "pygments_lexer": "ipython3",
   "version": "3.9.7"
  }
 },
 "nbformat": 4,
 "nbformat_minor": 5
}
