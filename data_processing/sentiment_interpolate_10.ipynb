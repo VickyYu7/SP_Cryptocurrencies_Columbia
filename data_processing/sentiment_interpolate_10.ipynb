{
  "nbformat": 4,
  "nbformat_minor": 0,
  "metadata": {
    "colab": {
      "provenance": [],
      "include_colab_link": true
    },
    "kernelspec": {
      "name": "python3",
      "display_name": "Python 3"
    },
    "language_info": {
      "name": "python"
    }
  },
  "cells": [
    {
      "cell_type": "markdown",
      "metadata": {
        "id": "view-in-github",
        "colab_type": "text"
      },
      "source": [
        "<a href=\"https://colab.research.google.com/github/VickyYu7/SP_Cryptocurrencies_Columbia/blob/main/sentiment_interpolate_10.ipynb\" target=\"_parent\"><img src=\"https://colab.research.google.com/assets/colab-badge.svg\" alt=\"Open In Colab\"/></a>"
      ]
    },
    {
      "cell_type": "code",
      "execution_count": null,
      "metadata": {
        "colab": {
          "base_uri": "https://localhost:8080/"
        },
        "id": "I4fcVuO0Dkyp",
        "outputId": "5fa7b20f-1526-4ba7-ae0b-4f4e74711127"
      },
      "outputs": [
        {
          "output_type": "stream",
          "name": "stdout",
          "text": [
            "Drive already mounted at /content/drive; to attempt to forcibly remount, call drive.mount(\"/content/drive\", force_remount=True).\n"
          ]
        }
      ],
      "source": [
        "from google.colab import drive\n",
        "drive.mount('/content/drive')"
      ]
    },
    {
      "cell_type": "code",
      "source": [
        "file = \"/content/drive/MyDrive/S&P Crypto Project/Market Sentiment Data/10. news_sentiment_data.xlsx\""
      ],
      "metadata": {
        "id": "cQOpJoj_JVs4"
      },
      "execution_count": null,
      "outputs": []
    },
    {
      "cell_type": "code",
      "source": [
        "import pandas as pd\n",
        "import numpy as np\n",
        "\n",
        "df = pd.read_excel(file, sheet_name = 'Data')\n",
        "type(df['date'][0])\n",
        "# df\n",
        "# df.drop(['Timeline'],axis=1,inplace=True)\n",
        "# df.columns = ['date','NFT_atten_index']\n",
        "# df['date'] = pd.to_datetime(df['date'],format='%d/%m/%Y')\n",
        "# df.set_index(\"date\", inplace = True)\n",
        "# df = df.resample('D').sum()\n",
        "\n",
        "# df.where(df['NFT_atten_index']!=0, None, inplace = True)\n",
        "# df = df.interpolate(method = 'linear',limit_direction = 'forward')\n",
        "# new_file = \"/content/drive/MyDrive/S&P Crypto Project/Market Sentiment Data/7.NFT_atten_v2.csv\"\n",
        "# df.to_csv(new_file)"
      ],
      "metadata": {
        "id": "XBLzNYPpJyeu",
        "colab": {
          "base_uri": "https://localhost:8080/"
        },
        "outputId": "114a851d-893e-44ef-e8df-27e44b67491d"
      },
      "execution_count": null,
      "outputs": [
        {
          "output_type": "execute_result",
          "data": {
            "text/plain": [
              "pandas._libs.tslibs.timestamps.Timestamp"
            ]
          },
          "metadata": {},
          "execution_count": 4
        }
      ]
    },
    {
      "cell_type": "code",
      "source": [
        "from datetime import datetime\n",
        "ts = \"1/1/2014\"\n",
        "ts = pd.to_datetime(ts)\n",
        "# ts\n",
        "df_small = df[df['date']>=ts]\n",
        "df_small.columns = ['date','index']\n",
        "df_small.head()"
      ],
      "metadata": {
        "colab": {
          "base_uri": "https://localhost:8080/",
          "height": 206
        },
        "id": "PjKKNqxxYJ5r",
        "outputId": "8704b6e7-0057-4853-dbef-2d3fab512037"
      },
      "execution_count": null,
      "outputs": [
        {
          "output_type": "execute_result",
          "data": {
            "text/plain": [
              "            date     index\n",
              "12400 2014-01-01  0.165103\n",
              "12401 2014-01-02  0.160742\n",
              "12402 2014-01-03  0.164585\n",
              "12403 2014-01-04  0.175946\n",
              "12404 2014-01-05  0.172013"
            ],
            "text/html": [
              "\n",
              "  <div id=\"df-f2888578-0dd0-43e8-9230-cc95388dc7cf\">\n",
              "    <div class=\"colab-df-container\">\n",
              "      <div>\n",
              "<style scoped>\n",
              "    .dataframe tbody tr th:only-of-type {\n",
              "        vertical-align: middle;\n",
              "    }\n",
              "\n",
              "    .dataframe tbody tr th {\n",
              "        vertical-align: top;\n",
              "    }\n",
              "\n",
              "    .dataframe thead th {\n",
              "        text-align: right;\n",
              "    }\n",
              "</style>\n",
              "<table border=\"1\" class=\"dataframe\">\n",
              "  <thead>\n",
              "    <tr style=\"text-align: right;\">\n",
              "      <th></th>\n",
              "      <th>date</th>\n",
              "      <th>index</th>\n",
              "    </tr>\n",
              "  </thead>\n",
              "  <tbody>\n",
              "    <tr>\n",
              "      <th>12400</th>\n",
              "      <td>2014-01-01</td>\n",
              "      <td>0.165103</td>\n",
              "    </tr>\n",
              "    <tr>\n",
              "      <th>12401</th>\n",
              "      <td>2014-01-02</td>\n",
              "      <td>0.160742</td>\n",
              "    </tr>\n",
              "    <tr>\n",
              "      <th>12402</th>\n",
              "      <td>2014-01-03</td>\n",
              "      <td>0.164585</td>\n",
              "    </tr>\n",
              "    <tr>\n",
              "      <th>12403</th>\n",
              "      <td>2014-01-04</td>\n",
              "      <td>0.175946</td>\n",
              "    </tr>\n",
              "    <tr>\n",
              "      <th>12404</th>\n",
              "      <td>2014-01-05</td>\n",
              "      <td>0.172013</td>\n",
              "    </tr>\n",
              "  </tbody>\n",
              "</table>\n",
              "</div>\n",
              "      <button class=\"colab-df-convert\" onclick=\"convertToInteractive('df-f2888578-0dd0-43e8-9230-cc95388dc7cf')\"\n",
              "              title=\"Convert this dataframe to an interactive table.\"\n",
              "              style=\"display:none;\">\n",
              "        \n",
              "  <svg xmlns=\"http://www.w3.org/2000/svg\" height=\"24px\"viewBox=\"0 0 24 24\"\n",
              "       width=\"24px\">\n",
              "    <path d=\"M0 0h24v24H0V0z\" fill=\"none\"/>\n",
              "    <path d=\"M18.56 5.44l.94 2.06.94-2.06 2.06-.94-2.06-.94-.94-2.06-.94 2.06-2.06.94zm-11 1L8.5 8.5l.94-2.06 2.06-.94-2.06-.94L8.5 2.5l-.94 2.06-2.06.94zm10 10l.94 2.06.94-2.06 2.06-.94-2.06-.94-.94-2.06-.94 2.06-2.06.94z\"/><path d=\"M17.41 7.96l-1.37-1.37c-.4-.4-.92-.59-1.43-.59-.52 0-1.04.2-1.43.59L10.3 9.45l-7.72 7.72c-.78.78-.78 2.05 0 2.83L4 21.41c.39.39.9.59 1.41.59.51 0 1.02-.2 1.41-.59l7.78-7.78 2.81-2.81c.8-.78.8-2.07 0-2.86zM5.41 20L4 18.59l7.72-7.72 1.47 1.35L5.41 20z\"/>\n",
              "  </svg>\n",
              "      </button>\n",
              "      \n",
              "  <style>\n",
              "    .colab-df-container {\n",
              "      display:flex;\n",
              "      flex-wrap:wrap;\n",
              "      gap: 12px;\n",
              "    }\n",
              "\n",
              "    .colab-df-convert {\n",
              "      background-color: #E8F0FE;\n",
              "      border: none;\n",
              "      border-radius: 50%;\n",
              "      cursor: pointer;\n",
              "      display: none;\n",
              "      fill: #1967D2;\n",
              "      height: 32px;\n",
              "      padding: 0 0 0 0;\n",
              "      width: 32px;\n",
              "    }\n",
              "\n",
              "    .colab-df-convert:hover {\n",
              "      background-color: #E2EBFA;\n",
              "      box-shadow: 0px 1px 2px rgba(60, 64, 67, 0.3), 0px 1px 3px 1px rgba(60, 64, 67, 0.15);\n",
              "      fill: #174EA6;\n",
              "    }\n",
              "\n",
              "    [theme=dark] .colab-df-convert {\n",
              "      background-color: #3B4455;\n",
              "      fill: #D2E3FC;\n",
              "    }\n",
              "\n",
              "    [theme=dark] .colab-df-convert:hover {\n",
              "      background-color: #434B5C;\n",
              "      box-shadow: 0px 1px 3px 1px rgba(0, 0, 0, 0.15);\n",
              "      filter: drop-shadow(0px 1px 2px rgba(0, 0, 0, 0.3));\n",
              "      fill: #FFFFFF;\n",
              "    }\n",
              "  </style>\n",
              "\n",
              "      <script>\n",
              "        const buttonEl =\n",
              "          document.querySelector('#df-f2888578-0dd0-43e8-9230-cc95388dc7cf button.colab-df-convert');\n",
              "        buttonEl.style.display =\n",
              "          google.colab.kernel.accessAllowed ? 'block' : 'none';\n",
              "\n",
              "        async function convertToInteractive(key) {\n",
              "          const element = document.querySelector('#df-f2888578-0dd0-43e8-9230-cc95388dc7cf');\n",
              "          const dataTable =\n",
              "            await google.colab.kernel.invokeFunction('convertToInteractive',\n",
              "                                                     [key], {});\n",
              "          if (!dataTable) return;\n",
              "\n",
              "          const docLinkHtml = 'Like what you see? Visit the ' +\n",
              "            '<a target=\"_blank\" href=https://colab.research.google.com/notebooks/data_table.ipynb>data table notebook</a>'\n",
              "            + ' to learn more about interactive tables.';\n",
              "          element.innerHTML = '';\n",
              "          dataTable['output_type'] = 'display_data';\n",
              "          await google.colab.output.renderOutput(dataTable, element);\n",
              "          const docLink = document.createElement('div');\n",
              "          docLink.innerHTML = docLinkHtml;\n",
              "          element.appendChild(docLink);\n",
              "        }\n",
              "      </script>\n",
              "    </div>\n",
              "  </div>\n",
              "  "
            ]
          },
          "metadata": {},
          "execution_count": 24
        }
      ]
    },
    {
      "cell_type": "code",
      "source": [
        "df_small.set_index(\"date\", inplace = True)\n",
        "df_small = df_small.resample('D').sum()\n",
        "df_small.where(df_small['index']!=0, None, inplace = True)\n",
        "df_small = df_small.interpolate(method = 'linear',limit_direction = 'forward')\n",
        "new_file = \"/content/drive/MyDrive/S&P Crypto Project/Market Sentiment Data/10.news_senti_v2.csv\"\n",
        "df_small.to_csv(new_file)"
      ],
      "metadata": {
        "id": "U9swVxxTZSoI"
      },
      "execution_count": null,
      "outputs": []
    },
    {
      "cell_type": "code",
      "source": [],
      "metadata": {
        "id": "MM9lFHdeXG4P"
      },
      "execution_count": null,
      "outputs": []
    }
  ]
}
