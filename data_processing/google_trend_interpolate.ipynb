{
  "nbformat": 4,
  "nbformat_minor": 0,
  "metadata": {
    "colab": {
      "provenance": [],
      "include_colab_link": true
    },
    "kernelspec": {
      "name": "python3",
      "display_name": "Python 3"
    },
    "language_info": {
      "name": "python"
    }
  },
  "cells": [
    {
      "cell_type": "markdown",
      "metadata": {
        "id": "view-in-github",
        "colab_type": "text"
      },
      "source": [
        "<a href=\"https://colab.research.google.com/github/VickyYu7/SP_Cryptocurrencies_Columbia/blob/main/google_trend_interpolate.ipynb\" target=\"_parent\"><img src=\"https://colab.research.google.com/assets/colab-badge.svg\" alt=\"Open In Colab\"/></a>"
      ]
    },
    {
      "cell_type": "code",
      "execution_count": null,
      "metadata": {
        "id": "I4fcVuO0Dkyp"
      },
      "outputs": [],
      "source": [
        "from google.colab import drive\n",
        "drive.mount('/content/drive')"
      ]
    },
    {
      "cell_type": "code",
      "source": [
        "def google_interpolate(file):\n",
        "  import pandas as pd\n",
        "  import numpy as np\n",
        "  \n",
        "  df = pd.read_csv(file, header = 1)\n",
        "  df.columns = ['date','trend']\n",
        "  df['date'] = pd.to_datetime(df['date'])\n",
        "  df.set_index(\"date\", inplace = True)\n",
        "  df.replace(\"0\",200,inplace=True)\n",
        "  df.replace(\"<1\",200,inplace=True)\n",
        "  df['trend'] = df['trend'].apply(lambda x: int(x))\n",
        "  df = df.resample('D').sum().fillna(0)\n",
        "  df.where(df['trend']!=0, None, inplace = True)\n",
        "  df.replace(200,0,inplace = True)\n",
        "  df = df.interpolate(method = 'linear',limit_direction = 'forward')\n",
        "\n",
        "  new_file = file[:78]+\"gt v2/\"+file[78:-4]+\"_v2.csv\"\n",
        "  df.to_csv(new_file)"
      ],
      "metadata": {
        "id": "sIBOZ51RDwHL"
      },
      "execution_count": null,
      "outputs": []
    },
    {
      "cell_type": "code",
      "source": [
        "file1 = \"/content/drive/MyDrive/S&P Crypto Project/Market Sentiment Data/Google Trends/bitcoin.csv\"\n",
        "google_interpolate(file1)\n",
        "file2 = \"/content/drive/MyDrive/S&P Crypto Project/Market Sentiment Data/Google Trends/Ukraine war.csv\"\n",
        "google_interpolate(file2)\n",
        "file3 = \"/content/drive/MyDrive/S&P Crypto Project/Market Sentiment Data/Google Trends/Buy_Bitcoin.csv\"\n",
        "google_interpolate(file3)\n",
        "file4 = \"/content/drive/MyDrive/S&P Crypto Project/Market Sentiment Data/Google Trends/Sell_Bitcoin.csv\"\n",
        "google_interpolate(file4)\n",
        "file5 = \"/content/drive/MyDrive/S&P Crypto Project/Market Sentiment Data/Google Trends/covid.csv\"\n",
        "google_interpolate(file5)\n",
        "file6 = \"/content/drive/MyDrive/S&P Crypto Project/Market Sentiment Data/Google Trends/etherium.csv\"\n",
        "google_interpolate(file6)\n"
      ],
      "metadata": {
        "id": "BYMIg99pGWoq"
      },
      "execution_count": null,
      "outputs": []
    },
    {
      "cell_type": "code",
      "source": [
        "filelist = [file1,file2,file3,file4,file5,file6]\n",
        "for file in filelist:\n",
        "  google_interpolate(file)"
      ],
      "metadata": {
        "id": "xCRAANfjNrcb"
      },
      "execution_count": null,
      "outputs": []
    }
  ]
}
